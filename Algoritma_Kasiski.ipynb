{
  "nbformat": 4,
  "nbformat_minor": 0,
  "metadata": {
    "colab": {
      "provenance": [],
      "authorship_tag": "ABX9TyPCKVUebvhXQZCkXsJgdqY5",
      "include_colab_link": true
    },
    "kernelspec": {
      "name": "python3",
      "display_name": "Python 3"
    },
    "language_info": {
      "name": "python"
    }
  },
  "cells": [
    {
      "cell_type": "markdown",
      "metadata": {
        "id": "view-in-github",
        "colab_type": "text"
      },
      "source": [
        "<a href=\"https://colab.research.google.com/github/Feuriee/Simulasi-Vigenere-Cipher-dengan-Teknik-Kasiski/blob/main/Algoritma_Kasiski.ipynb\" target=\"_parent\"><img src=\"https://colab.research.google.com/assets/colab-badge.svg\" alt=\"Open In Colab\"/></a>"
      ]
    },
    {
      "cell_type": "markdown",
      "source": [
        "# **Kriptanalisis Kasiski untuk Vigenère Cipher**"
      ],
      "metadata": {
        "id": "dZm8HeIE7N7H"
      }
    },
    {
      "cell_type": "markdown",
      "source": [
        "**Dibuat dalam Google Colab**"
      ],
      "metadata": {
        "id": "hGJFtfao7PW1"
      }
    },
    {
      "cell_type": "markdown",
      "source": [
        "## Import Model Pyhton"
      ],
      "metadata": {
        "id": "y6QvFmex8byc"
      }
    },
    {
      "cell_type": "code",
      "source": [
        "import numpy as np\n",
        "import matplotlib.pyplot as plt\n",
        "from collections import Counter, defaultdict\n",
        "import re\n",
        "from math import gcd\n",
        "from functools import reduce"
      ],
      "metadata": {
        "id": "NVcT9lSc8evn"
      },
      "execution_count": null,
      "outputs": []
    },
    {
      "cell_type": "markdown",
      "source": [
        "## Menentukan **Frekuensi Alfabet Indonesia**"
      ],
      "metadata": {
        "id": "xPb8XOmC8hAW"
      }
    },
    {
      "cell_type": "markdown",
      "source": [
        "**Data frekuensi huruf dalam bahasa Indonesia**\n",
        "\n"
      ],
      "metadata": {
        "id": "beVygf2D_N9H"
      }
    },
    {
      "cell_type": "code",
      "source": [
        "frekuensi_alfabetindonesia = {\n",
        "    'A': 20.39, 'B': 2.64, 'C': 0.76, 'D': 5.00, 'E': 8.28,\n",
        "    'F': 0.21, 'G': 3.66, 'H': 2.74, 'I': 7.98, 'J': 0.87,\n",
        "    'K': 5.14, 'L': 3.26, 'M': 4.21, 'N': 9.33, 'O': 1.26,\n",
        "    'P': 2.61, 'Q': 0.01, 'R': 4.64, 'S': 4.15, 'T': 5.58,\n",
        "    'U': 4.62, 'V': 0.18, 'W': 0.48, 'X': 0.03, 'Y': 1.88,\n",
        "    'Z': 0.04\n",
        "}"
      ],
      "metadata": {
        "id": "uLaDEjXI-tTn"
      },
      "execution_count": null,
      "outputs": []
    },
    {
      "cell_type": "markdown",
      "source": [
        "#### Memisahkan keys dan values\n"
      ],
      "metadata": {
        "id": "KZ2C1QxU_YAH"
      }
    },
    {
      "cell_type": "code",
      "source": [
        "huruf = list(frekuensi_alfabetindonesia.keys())\n",
        "frekuensi = list(frekuensi_alfabetindonesia.values())"
      ],
      "metadata": {
        "id": "1TFHvskS_f_P"
      },
      "execution_count": null,
      "outputs": []
    },
    {
      "cell_type": "markdown",
      "source": [
        "#### Membuat histogram\n"
      ],
      "metadata": {
        "id": "aXg0kqIt_Z0w"
      }
    },
    {
      "cell_type": "code",
      "source": [
        "plt.figure(figsize=(12, 6))\n",
        "plt.bar(huruf, frekuensi, color='skyblue', edgecolor='black')\n",
        "plt.title('Frekuensi Huruf dalam Bahasa Indonesia')\n",
        "plt.xlabel('Huruf')\n",
        "plt.ylabel('Frekuensi (%)')\n",
        "plt.grid(axis='y', linestyle='--', alpha=0.7)\n",
        "plt.tight_layout()\n",
        "plt.show()"
      ],
      "metadata": {
        "id": "X6Qo4Fym_i1m"
      },
      "execution_count": null,
      "outputs": []
    },
    {
      "cell_type": "markdown",
      "source": [
        "## Memasukan Input Chiper Text"
      ],
      "metadata": {
        "id": "ZfeCOXCgAgyr"
      }
    },
    {
      "cell_type": "code",
      "source": [
        "cipher_text = input(\"Masukan Chiper Text: \").lower()\n",
        "print(\"\\nChiper Text yang dimasukkan adalah:\\n\", cipher_text)"
      ],
      "metadata": {
        "id": "rvgSkRR_Akfy"
      },
      "execution_count": null,
      "outputs": []
    },
    {
      "cell_type": "markdown",
      "source": [
        "## Membersihkan teks (menghilangkan tanda baca)"
      ],
      "metadata": {
        "id": "XeUwtZtLDDvM"
      }
    },
    {
      "cell_type": "code",
      "source": [
        "clean_text = re.sub(r'[^a-z]', '', cipher_text)"
      ],
      "metadata": {
        "id": "SI-sE834C7cl"
      },
      "execution_count": 334,
      "outputs": []
    },
    {
      "cell_type": "markdown",
      "source": [
        "## Analisis huruf yang muncul"
      ],
      "metadata": {
        "id": "cY4WufJ-ESmr"
      }
    },
    {
      "cell_type": "code",
      "source": [
        "frekuensi_huruf = Counter(clean_text)\n",
        "sorted_huruf = sorted(frekuensi_huruf.items())\n",
        "total_huruf, total_frekuensi = zip(*sorted_huruf)\n",
        "frekuensi = {}\n",
        "for char in clean_text:\n",
        "    char_upper = char.upper()\n",
        "    if char_upper in frekuensi:\n",
        "        frekuensi[char_upper] += 1\n",
        "    else:\n",
        "        frekuensi[char_upper] = 1"
      ],
      "metadata": {
        "id": "xDY9iTqZEZpi"
      },
      "execution_count": 340,
      "outputs": []
    },
    {
      "cell_type": "markdown",
      "source": [
        "## Tampilkan jumlah tiap huruf"
      ],
      "metadata": {
        "id": "izKc4lPzqbwT"
      }
    },
    {
      "cell_type": "code",
      "source": [
        "print(\"\\nFrekuensi tiap huruf (A-Z):\")\n",
        "for huruf in sorted(frekuensi):\n",
        "    print(f\"{huruf} = {frekuensi[huruf]}\")"
      ],
      "metadata": {
        "id": "ZixuGFSwqftp"
      },
      "execution_count": null,
      "outputs": []
    },
    {
      "cell_type": "markdown",
      "source": [
        "## Tampilkan histogram frekuensi huruf"
      ],
      "metadata": {
        "id": "t2lw4HEgDnVn"
      }
    },
    {
      "cell_type": "code",
      "source": [
        "plt.figure(figsize=(10, 5))\n",
        "plt.bar(total_huruf, total_frekuensi, color='salmon')\n",
        "plt.title('Histogram Frekuensi Huruf')\n",
        "plt.xlabel('Huruf')\n",
        "plt.ylabel('Frekuensi')\n",
        "plt.tight_layout()\n",
        "plt.show()"
      ],
      "metadata": {
        "id": "rRGCf4HlDpvU"
      },
      "execution_count": null,
      "outputs": []
    },
    {
      "cell_type": "markdown",
      "source": [
        "## Menentukan Semua Trigram dan posisi"
      ],
      "metadata": {
        "id": "R9OneOc8HzGs"
      }
    },
    {
      "cell_type": "code",
      "source": [
        "trigram_positions = defaultdict(list)"
      ],
      "metadata": {
        "id": "y_lQPCrJH4h3"
      },
      "execution_count": 343,
      "outputs": []
    },
    {
      "cell_type": "code",
      "source": [
        "for i in range(len(clean_text) - 2):\n",
        "    trigram = clean_text[i:i+3]\n",
        "    trigram_positions[trigram].append(i)"
      ],
      "metadata": {
        "id": "X1MQNlH-H5zY"
      },
      "execution_count": 344,
      "outputs": []
    },
    {
      "cell_type": "markdown",
      "source": [
        "## Filter trigram yang muncul lebih dari sekali"
      ],
      "metadata": {
        "id": "sj-DE1JsH6mn"
      }
    },
    {
      "cell_type": "code",
      "source": [
        "repeated_trigrams = {k: v for k, v in trigram_positions.items() if len(v) > 1}"
      ],
      "metadata": {
        "id": "j-UX1cBMH9ir"
      },
      "execution_count": 345,
      "outputs": []
    },
    {
      "cell_type": "markdown",
      "source": [
        "## Tampilkan hasil"
      ],
      "metadata": {
        "id": "nPOG9P7qIBPe"
      }
    },
    {
      "cell_type": "code",
      "source": [
        "if repeated_trigrams:\n",
        "    print(\"\\n=== Hasil Analisis Kasiski (Trigram) ===\")\n",
        "    for trigram, positions in repeated_trigrams.items():\n",
        "        print(f\"\\nTrigram: {trigram}\")\n",
        "        distances = []\n",
        "        for i in range(len(positions) - 1):\n",
        "            distance = positions[i + 1] - positions[i]\n",
        "            distances.append(distance)\n",
        "            print(f\"  Posisi: {positions[i]} -> {positions[i+1]} | Jarak: {distance}\")\n",
        "        if len(distances) > 1:\n",
        "            key_length_est = reduce(gcd, distances)\n",
        "            print(f\"  Estimasi panjang kunci (GCD jarak): {key_length_est}\")\n",
        "        elif distances:\n",
        "            print(f\"  Jarak satu-satunya: {distances[0]}\")\n",
        "else:\n",
        "    print(\"\\nTidak ditemukan trigram yang berulang dalam teks.\")"
      ],
      "metadata": {
        "id": "yLnEHFNiIEaJ"
      },
      "execution_count": null,
      "outputs": []
    },
    {
      "cell_type": "markdown",
      "source": [
        "## menentukan panjang kunci melalui jarak pada trigram"
      ],
      "metadata": {
        "id": "gheB7zUdXVfr"
      }
    },
    {
      "cell_type": "code",
      "source": [
        "all_distances = []\n",
        "for trigram, positions in repeated_trigrams.items():\n",
        "    for i in range(len(positions) - 1):\n",
        "        distance = positions[i + 1] - positions[i]\n",
        "        all_distances.append(distance)\n",
        "\n",
        "if all_distances:\n",
        "    print(\"\\n=== Semua Jarak yang Ditemukan ===\")\n",
        "    print(\"Jarak:\", all_distances)\n"
      ],
      "metadata": {
        "id": "qxDyALk-XdDc"
      },
      "execution_count": null,
      "outputs": []
    },
    {
      "cell_type": "markdown",
      "source": [
        "##  Menentukan Faktor Persekutuan Terbesar (FPB) dari seluruh jarak tersebut"
      ],
      "metadata": {
        "id": "yb0tG-4IYPy5"
      }
    },
    {
      "cell_type": "code",
      "source": [
        "def faktor(n):\n",
        "    return [i for i in range(1, n + 1) if n % i == 0]\n",
        "\n",
        "print(\"\\n=== Faktor dari Tiap Jarak ===\")\n",
        "for jarak in all_distances:\n",
        "    faktors = faktor(jarak)\n",
        "    faktors_str = ', '.join(str(f) for f in faktors)\n",
        "    print(f\"{jarak} = {faktors_str}\")\n"
      ],
      "metadata": {
        "id": "Yf3SzBkYYVcX"
      },
      "execution_count": null,
      "outputs": []
    },
    {
      "cell_type": "markdown",
      "source": [
        "## Menentukan nilai paling sering muncul dari Faktor Persekutuan Terbesar (FPB) jarak tersebut"
      ],
      "metadata": {
        "id": "NE2LIWStYpQq"
      }
    },
    {
      "cell_type": "code",
      "source": [
        "from collections import Counter\n",
        "\n",
        "# Langkah 1: Kumpulkan semua faktor dari semua jarak\n",
        "semua_faktor = []\n",
        "\n",
        "for jarak in all_distances:\n",
        "    semua_faktor.extend(faktor(jarak))  # tambahkan semua faktor dari setiap jarak\n",
        "\n",
        "# Langkah 2: Hitung frekuensi tiap faktor\n",
        "faktor_counter = Counter(semua_faktor)\n",
        "\n",
        "# Langkah 3: Urutkan berdasarkan frekuensi tertinggi\n",
        "sorted_faktor = sorted(faktor_counter.items(), key=lambda x: x[1], reverse=True)\n",
        "\n",
        "# Langkah 4: Tampilkan hasil\n",
        "print(\"\\n=== Frekuensi Kemunculan Faktor ===\")\n",
        "for faktor_, freq in sorted_faktor:\n",
        "    print(f\"Faktor {faktor_} muncul sebanyak {freq} kali\")\n",
        "\n",
        "# Langkah 5: Ambil kandidat panjang kunci (bisa 2–3 teratas)\n",
        "print(\"\\n=== Kandidat Panjang Kunci (Faktor Terbanyak) ===\")\n",
        "for faktor_, freq in sorted_faktor:\n",
        "    if freq >= 2:  # ambil yang muncul lebih dari 1 kali\n",
        "        print(f\"➡️ {faktor_} (muncul {freq} kali)\")\n"
      ],
      "metadata": {
        "id": "WcvuvW1CY0y3"
      },
      "execution_count": null,
      "outputs": []
    },
    {
      "cell_type": "markdown",
      "source": [
        "## Masukkan panjang kunci yang sudah kamu dapatkan"
      ],
      "metadata": {
        "id": "4o64j8iUbiA_"
      }
    },
    {
      "cell_type": "code",
      "source": [
        "while True:\n",
        "    try:\n",
        "        panjang_kunci_input = int(input(\"Masukkan estimasi panjang kunci (bilangan bulat positif): \"))\n",
        "        if panjang_kunci_input > 0:\n",
        "            panjang_kunci_estimasi = panjang_kunci_input\n",
        "            break\n",
        "        else:\n",
        "            print(\"Panjang kunci harus bilangan bulat positif.\")\n",
        "    except ValueError:\n",
        "        print(\"Input tidak valid. Harap masukkan bilangan bulat.\")\n",
        "\n",
        "print(f\"\\nMenggunakan estimasi panjang kunci: {panjang_kunci_estimasi}\")"
      ],
      "metadata": {
        "id": "IbjaLWmSboHt",
        "colab": {
          "base_uri": "https://localhost:8080/"
        },
        "outputId": "788ab08b-57e8-4f63-948c-0be7a520f5a6"
      },
      "execution_count": 350,
      "outputs": [
        {
          "output_type": "stream",
          "name": "stdout",
          "text": [
            "Masukkan estimasi panjang kunci (bilangan bulat positif): 7\n",
            "\n",
            "Menggunakan estimasi panjang kunci: 7\n"
          ]
        }
      ]
    },
    {
      "cell_type": "markdown",
      "source": [
        "## Bagi ciphertext menjadi beberapa grup, tiap grup berisi huruf-huruf yang dienkripsi dengan huruf kunci yang sama."
      ],
      "metadata": {
        "id": "P7zGQTBbn-0x"
      }
    },
    {
      "cell_type": "code",
      "source": [
        "def group_by_panjang_kunci_estimasi(clean_text, panjang_kunci_estimasi):\n",
        "    groups = ['' for _ in range(panjang_kunci_estimasi)]\n",
        "\n",
        "    for i, char in enumerate(clean_text):\n",
        "        group_index = i % panjang_kunci_estimasi\n",
        "        groups[group_index] += char\n",
        "\n",
        "    return groups\n",
        "\n",
        "# Menggunakan data yang sudah ada\n",
        "groups = group_by_panjang_kunci_estimasi(clean_text, panjang_kunci_estimasi)\n",
        "\n",
        "print(\"\\nGrup berdasarkan panjang kunci (index 0 sampai\", panjang_kunci_estimasi-1, \"):\")\n",
        "for i, group in enumerate(groups, start=1):\n",
        "    print(f\"Grup {i}: {group}\")\n"
      ],
      "metadata": {
        "id": "r4-T_bIRq3fL"
      },
      "execution_count": null,
      "outputs": []
    },
    {
      "cell_type": "markdown",
      "source": [
        "## Menentukan posisi tiap huruf pada grup dengan alfabet"
      ],
      "metadata": {
        "id": "lPnvEKiewymA"
      }
    },
    {
      "cell_type": "markdown",
      "source": [
        "**A B C D E F G H I J K L M N O P Q R S T U V W X Y Z**  \n",
        "**1 2 3 4 5 6 7 8 9 10 11 12 13 14 15 16 17 18 19 20 21 22 23 24 25 26**\n"
      ],
      "metadata": {
        "id": "jDLbDHG4xHhg"
      }
    },
    {
      "cell_type": "code",
      "source": [
        "def konversi_huruf(text):\n",
        "    return [ord(c) - ord('a') + 1 for c in text]\n",
        "\n",
        "# Misal groups sudah ada dari sebelumnya\n",
        "for i, group in enumerate(groups, start=1):\n",
        "    indices = konversi_huruf(group)\n",
        "    # Format output: print grup + list indeks\n",
        "    print(f\"Grup {i}: {group} ({', '.join(map(str, indices))})\\n\")\n"
      ],
      "metadata": {
        "id": "TadebE31tn5q"
      },
      "execution_count": null,
      "outputs": []
    },
    {
      "cell_type": "markdown",
      "source": [
        "## Mengambil frekuensi alfabet Bahasa Indonesia"
      ],
      "metadata": {
        "id": "RIHolrl8x1et"
      }
    },
    {
      "cell_type": "code",
      "source": [
        "freq_indo = [frekuensi_alfabetindonesia.get(chr(ord('A')+i), 0) for i in range(26)]\n"
      ],
      "metadata": {
        "id": "AY3p0CCau2eM"
      },
      "execution_count": 353,
      "outputs": []
    },
    {
      "cell_type": "markdown",
      "source": [
        "## Melakukan pergeseran (shift) tiap grup ciphertext berdasarkan panjang kunci"
      ],
      "metadata": {
        "id": "ki5JIjtsyDGK"
      }
    },
    {
      "cell_type": "code",
      "source": [
        "def shift_text(text, shift):\n",
        "    # Geser huruf ke kiri sebanyak 'shift' posisi (mod 26)\n",
        "    result = \"\"\n",
        "    for c in text:\n",
        "        # Convert huruf ke 0-25\n",
        "        num = ord(c) - ord('a') + 1\n",
        "        # geser\n",
        "        num = (num - shift) % 26\n",
        "        result += chr(num + ord('a'))\n",
        "    return result"
      ],
      "metadata": {
        "id": "K_dX-I4Qu9Ft"
      },
      "execution_count": 354,
      "outputs": []
    },
    {
      "cell_type": "markdown",
      "source": [
        "## Hitung nilai Chi-Square antara frekuensi huruf hasil shift dengan frekuensi huruf standar bahasa Indonesia."
      ],
      "metadata": {
        "id": "5OJSJv2uyS6c"
      }
    },
    {
      "cell_type": "markdown",
      "source": [
        "**Rumus Chi-Square (χ²)**\n",
        "\n",
        "\n",
        " $\\chi^2 = \\sum_{i=1}^n \\frac{(O_i - E_i)^2}{E_i}$\n",
        "\n",
        "\n",
        "Keterangan:  \n",
        "- \\( $\\chi^2 \\$) = nilai Chi-Square  \n",
        "- \\( O_i \\) = frekuensi observasi dari kategori ke-i  \n",
        "- \\( E_i \\) = frekuensi ekspektasi dari kategori ke-i  \n",
        "- \\( n \\) = jumlah kategori"
      ],
      "metadata": {
        "id": "9DTfIFLtzCn7"
      }
    },
    {
      "cell_type": "code",
      "source": [
        "def chi_square_statistik(observasi_freq, expected_freq, length):\n",
        "    # Hitung Chi-Square antara distribusi observed dan expected\n",
        "    chi_sq = 0\n",
        "    for o, e in zip(observasi_freq, expected_freq):\n",
        "        expected_count = e * length / 100  # e dalam persen → jumlah harapan\n",
        "        if expected_count > 0:\n",
        "            chi_sq += ((o - expected_count) ** 2) / expected_count\n",
        "    return chi_sq\n"
      ],
      "metadata": {
        "id": "U0HzXY83u9Eh"
      },
      "execution_count": 355,
      "outputs": []
    },
    {
      "cell_type": "markdown",
      "source": [
        "## Hitung frekuensi kemunculan huruf pada hasil shift."
      ],
      "metadata": {
        "id": "y1nhiJcGz9xC"
      }
    },
    {
      "cell_type": "code",
      "source": [
        "def get_frequensi(text):\n",
        "    length = len(text)\n",
        "    count = Counter(text)\n",
        "    # observed frekuensi jumlah huruf a-z\n",
        "    observed = [count.get(chr(ord('a') + i), 0) for i in range(26)]\n",
        "    return observed, length"
      ],
      "metadata": {
        "id": "UFGfyTiYu_6r"
      },
      "execution_count": 356,
      "outputs": []
    },
    {
      "cell_type": "markdown",
      "source": [
        "## Hitung nilai Chi-Square antara frekuensi huruf hasil shift dengan frekuensi huruf standar bahasa Indonesia."
      ],
      "metadata": {
        "id": "IJAZO-9y0Bnd"
      }
    },
    {
      "cell_type": "code",
      "source": [
        "# Analisis Chi-Square tiap grup untuk cari shift terbaik\n",
        "def find_best_shift_for_group(group_text):\n",
        "    observasi, length = get_frequensi(group_text)\n",
        "    min_chi = None\n",
        "    best_shift = None\n",
        "\n",
        "    for shift in range(26):\n",
        "        # Geser frekuensi observed ke kanan (artinya dekode dengan shift)\n",
        "        shifted_text = shift_text(group_text, shift)\n",
        "        shifted_obs, _ = get_frequensi(shifted_text)\n",
        "\n",
        "        chi = chi_square_statistik(shifted_obs, freq_indo, length)\n",
        "\n",
        "        if (min_chi is None) or (chi < min_chi):\n",
        "            min_chi = chi\n",
        "            best_shift = shift\n",
        "\n",
        "    return best_shift, min_chi"
      ],
      "metadata": {
        "id": "QMxcl-QBvB4_"
      },
      "execution_count": 357,
      "outputs": []
    },
    {
      "cell_type": "markdown",
      "source": [
        "## menjalankan analisis untuk semua grup"
      ],
      "metadata": {
        "id": "2KO2_NXUvEeQ"
      }
    },
    {
      "cell_type": "code",
      "source": [
        "print(\"Analisis Chi-Square untuk tiap grup dan shift terbaik:\")\n",
        "kunci = \"\"\n",
        "\n",
        "for i, group in enumerate(groups, start=1):\n",
        "    shift, chi_val = find_best_shift_for_group(group)\n",
        "    # Ubah shift 1-26 jadi huruf kunci, a=1\n",
        "    # Jadi kita kurangi 1 saat konversi ke huruf: 1 -> 0 (a), 2 -> 1 (b), dst\n",
        "    key_char = chr(((shift - 1) % 26) + ord('a'))\n",
        "    print(f\"Grup {i}: shift terbaik = {shift} (chi-square = {chi_val:.2f}), tebakan key = '{key_char}'\")\n",
        "    kunci += key_char\n",
        "\n",
        "print(\"\\nTebakan kunci lengkap:\", kunci)"
      ],
      "metadata": {
        "id": "cJrbp-wuvGqI"
      },
      "execution_count": null,
      "outputs": []
    }
  ]
}